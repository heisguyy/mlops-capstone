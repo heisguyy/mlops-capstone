{
 "cells": [
  {
   "cell_type": "code",
   "execution_count": 2,
   "metadata": {},
   "outputs": [
    {
     "data": {
      "text/plain": [
       "True"
      ]
     },
     "execution_count": 2,
     "metadata": {},
     "output_type": "execute_result"
    }
   ],
   "source": [
    "import os\n",
    "\n",
    "import pandas as pd\n",
    "\n",
    "from catboost import CatBoostRegressor\n",
    "from sklearn.metrics import mean_squared_error\n",
    "from sklearn.model_selection import KFold\n",
    "\n",
    "import wandb\n",
    "\n",
    "os.environ[\"WANDB_SILENT\"] = \"true\"\n",
    "\n",
    "wandb.login(key=os.getenv(key=\"WANDB_KEY\"))"
   ]
  },
  {
   "cell_type": "code",
   "execution_count": 43,
   "metadata": {},
   "outputs": [
    {
     "data": {
      "text/html": [
       "<div>\n",
       "<style scoped>\n",
       "    .dataframe tbody tr th:only-of-type {\n",
       "        vertical-align: middle;\n",
       "    }\n",
       "\n",
       "    .dataframe tbody tr th {\n",
       "        vertical-align: top;\n",
       "    }\n",
       "\n",
       "    .dataframe thead th {\n",
       "        text-align: right;\n",
       "    }\n",
       "</style>\n",
       "<table border=\"1\" class=\"dataframe\">\n",
       "  <thead>\n",
       "    <tr style=\"text-align: right;\">\n",
       "      <th></th>\n",
       "      <th>price</th>\n",
       "      <th>bed</th>\n",
       "      <th>bath</th>\n",
       "      <th>acre_lot</th>\n",
       "      <th>zip_code</th>\n",
       "      <th>house_size</th>\n",
       "      <th>location</th>\n",
       "    </tr>\n",
       "  </thead>\n",
       "  <tbody>\n",
       "    <tr>\n",
       "      <th>0</th>\n",
       "      <td>105000.0</td>\n",
       "      <td>3.0</td>\n",
       "      <td>2.0</td>\n",
       "      <td>0.12</td>\n",
       "      <td>601</td>\n",
       "      <td>920.0</td>\n",
       "      <td>2351</td>\n",
       "    </tr>\n",
       "    <tr>\n",
       "      <th>1</th>\n",
       "      <td>80000.0</td>\n",
       "      <td>4.0</td>\n",
       "      <td>2.0</td>\n",
       "      <td>0.08</td>\n",
       "      <td>601</td>\n",
       "      <td>1527.0</td>\n",
       "      <td>2351</td>\n",
       "    </tr>\n",
       "    <tr>\n",
       "      <th>2</th>\n",
       "      <td>67000.0</td>\n",
       "      <td>2.0</td>\n",
       "      <td>1.0</td>\n",
       "      <td>0.15</td>\n",
       "      <td>795</td>\n",
       "      <td>748.0</td>\n",
       "      <td>2392</td>\n",
       "    </tr>\n",
       "    <tr>\n",
       "      <th>3</th>\n",
       "      <td>145000.0</td>\n",
       "      <td>4.0</td>\n",
       "      <td>2.0</td>\n",
       "      <td>0.10</td>\n",
       "      <td>731</td>\n",
       "      <td>1800.0</td>\n",
       "      <td>2412</td>\n",
       "    </tr>\n",
       "    <tr>\n",
       "      <th>4</th>\n",
       "      <td>179000.0</td>\n",
       "      <td>4.0</td>\n",
       "      <td>3.0</td>\n",
       "      <td>0.46</td>\n",
       "      <td>612</td>\n",
       "      <td>2520.0</td>\n",
       "      <td>2423</td>\n",
       "    </tr>\n",
       "  </tbody>\n",
       "</table>\n",
       "</div>"
      ],
      "text/plain": [
       "      price  bed  bath  acre_lot  zip_code  house_size  location\n",
       "0  105000.0  3.0   2.0      0.12       601       920.0      2351\n",
       "1   80000.0  4.0   2.0      0.08       601      1527.0      2351\n",
       "2   67000.0  2.0   1.0      0.15       795       748.0      2392\n",
       "3  145000.0  4.0   2.0      0.10       731      1800.0      2412\n",
       "4  179000.0  4.0   3.0      0.46       612      2520.0      2423"
      ]
     },
     "execution_count": 43,
     "metadata": {},
     "output_type": "execute_result"
    }
   ],
   "source": [
    "data = pd.read_csv(\"../data/clean.csv\")\n",
    "data.head()"
   ]
  },
  {
   "cell_type": "code",
   "execution_count": 44,
   "metadata": {},
   "outputs": [
    {
     "name": "stderr",
     "output_type": "stream",
     "text": [
      "/tmp/ipykernel_1493/2212425159.py:1: FutureWarning: In a future version of pandas all arguments of DataFrame.drop except for the argument 'labels' will be keyword-only.\n",
      "  X = data.drop(\"price\",1)\n"
     ]
    }
   ],
   "source": [
    "X = data.drop(\"price\",1)\n",
    "y = data[\"price\"]"
   ]
  },
  {
   "cell_type": "code",
   "execution_count": 45,
   "metadata": {},
   "outputs": [],
   "source": [
    "wandb.config = {\n",
    "    'learning_rate': 0.07632400095462799,\n",
    "    'random_seed': 0,\n",
    "    'depth': 6,\n",
    "    'subsample': 0.800000011920929,\n",
    "    'use_best_model': False,\n",
    "    'silent': True,\n",
    "    'eval_metric': \"RMSE\"\n",
    "}\n",
    "\n",
    "model = CatBoostRegressor(**wandb.config)"
   ]
  },
  {
   "cell_type": "code",
   "execution_count": 46,
   "metadata": {},
   "outputs": [
    {
     "name": "stdout",
     "output_type": "stream",
     "text": [
      "0\n",
      "1\n",
      "2\n",
      "3\n",
      "4\n"
     ]
    },
    {
     "name": "stderr",
     "output_type": "stream",
     "text": [
      "Thread SenderThread:\n",
      "Traceback (most recent call last):\n",
      "  File \"/home/ubuntu/.local/share/virtualenvs/capstone-vm-x0ttIRgE/lib/python3.10/site-packages/wandb/sdk/internal/internal_util.py\", line 51, in run\n",
      "    self._run()\n",
      "  File \"/home/ubuntu/.local/share/virtualenvs/capstone-vm-x0ttIRgE/lib/python3.10/site-packages/wandb/sdk/internal/internal_util.py\", line 102, in _run\n",
      "    self._process(record)\n",
      "  File \"/home/ubuntu/.local/share/virtualenvs/capstone-vm-x0ttIRgE/lib/python3.10/site-packages/wandb/sdk/internal/internal.py\", line 310, in _process\n",
      "    self._sm.send(record)\n",
      "  File \"/home/ubuntu/.local/share/virtualenvs/capstone-vm-x0ttIRgE/lib/python3.10/site-packages/wandb/sdk/internal/sender.py\", line 304, in send\n",
      "    send_handler(record)\n",
      "  File \"/home/ubuntu/.local/share/virtualenvs/capstone-vm-x0ttIRgE/lib/python3.10/site-packages/wandb/sdk/internal/sender.py\", line 318, in send_request\n",
      "    send_handler(record)\n",
      "  File \"/home/ubuntu/.local/share/virtualenvs/capstone-vm-x0ttIRgE/lib/python3.10/site-packages/wandb/sdk/internal/sender.py\", line 1215, in send_request_log_artifact\n",
      "    self._respond_result(result)\n",
      "  File \"/home/ubuntu/.local/share/virtualenvs/capstone-vm-x0ttIRgE/lib/python3.10/site-packages/wandb/sdk/internal/sender.py\", line 322, in _respond_result\n",
      "    self._result_q.put(result)\n",
      "  File \"/usr/lib/python3.10/multiprocessing/queues.py\", line 88, in put\n",
      "    raise ValueError(f\"Queue {self!r} is closed\")\n",
      "ValueError: Queue <multiprocessing.queues.Queue object at 0x7f3f086c6e30> is closed\n",
      "wandb: ERROR Internal wandb error: file data was not synced\n"
     ]
    }
   ],
   "source": [
    "from pickle import dump\n",
    "\n",
    "\n",
    "fold = KFold(n_splits=15,random_state=99,shuffle=True)\n",
    "\n",
    "for index,(train_idx,test_idx) in enumerate(fold.split(X,y)):\n",
    "    wandb.init(project=\"capstone-mlops\", entity=\"heisguyy\",name=f\"Cat_Exp_{index}\",tags=[\"hyperparameter tuning\",\"cross validation\"])\n",
    "    X_train, X_val, y_train, y_val = X.iloc[train_idx,:], X.iloc[test_idx,:], y[train_idx], y[test_idx]\n",
    "    model.fit(X_train,y_train)\n",
    "    y_preds = model.predict(X_val)\n",
    "    error = mean_squared_error(y_val,y_preds,squared=False)\n",
    "    wandb.summary[\"error\"] = error\n",
    "    wandb.finish()"
   ]
  },
  {
   "cell_type": "code",
   "execution_count": null,
   "metadata": {},
   "outputs": [],
   "source": []
  }
 ],
 "metadata": {
  "kernelspec": {
   "display_name": "Python 3.10.4 ('capstone-vm-x0ttIRgE')",
   "language": "python",
   "name": "python3"
  },
  "language_info": {
   "codemirror_mode": {
    "name": "ipython",
    "version": 3
   },
   "file_extension": ".py",
   "mimetype": "text/x-python",
   "name": "python",
   "nbconvert_exporter": "python",
   "pygments_lexer": "ipython3",
   "version": "3.10.4"
  },
  "orig_nbformat": 4,
  "vscode": {
   "interpreter": {
    "hash": "3bcd0b9fb00f90b8aa33bbd4d7ef1e01fc8cf2b7ad5b66e0f99f0744bf164053"
   }
  }
 },
 "nbformat": 4,
 "nbformat_minor": 2
}
